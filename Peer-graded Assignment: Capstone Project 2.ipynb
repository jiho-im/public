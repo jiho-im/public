{
    "cells": [
        {
            "cell_type": "markdown",
            "metadata": {},
            "source": "# Peer-graded Assignment: Capstone Project - The Battle of Neighborhoods (Week 1)"
        },
        {
            "cell_type": "markdown",
            "metadata": {
                "collapsed": true
            },
            "source": "## Introduction: \nCoffee has evolved from a luxury in the past to a commmondity - to some a need in the world today\n\nQuoting it has been that over 2.25 billion cups of coffee are consumed in the world every day worldwide. Coffee has been a important part of human live's, be it for its caffine, aroma, or other functions. Nonetheless, it might have also become and international too for conneting people"
        },
        {
            "cell_type": "markdown",
            "metadata": {},
            "source": "## Problem:\nSince the early 2010s, cafe busines has been a strong interest till date. As such, this project will try recommend new cafe ventureses to select ideal locations to set up cafes by\n- Location population \n- Surrounding businesses concerns\naround region of Toronto, Canada "
        },
        {
            "cell_type": "markdown",
            "metadata": {},
            "source": "## Location\nToronto, Canada"
        },
        {
            "cell_type": "markdown",
            "metadata": {},
            "source": "## Data \nThe following datas will be acquired\n- Postal codes of disctricts/regions in Toronto\n- Point of Interest (POI)s or establishments in the regions using clustering"
        },
        {
            "cell_type": "markdown",
            "metadata": {},
            "source": "Approach: The datas will allow us to obtain clusters, and from the clusters to decide if the locations are likely idea for a cafe business to strive there. Analysis will be more geographical apporach than evalutation of the k-clusters"
        },
        {
            "cell_type": "code",
            "execution_count": null,
            "metadata": {},
            "outputs": [],
            "source": ""
        }
    ],
    "metadata": {
        "kernelspec": {
            "display_name": "Python 3.6",
            "language": "python",
            "name": "python3"
        },
        "language_info": {
            "codemirror_mode": {
                "name": "ipython",
                "version": 3
            },
            "file_extension": ".py",
            "mimetype": "text/x-python",
            "name": "python",
            "nbconvert_exporter": "python",
            "pygments_lexer": "ipython3",
            "version": "3.6.9"
        }
    },
    "nbformat": 4,
    "nbformat_minor": 1
}